{
 "cells": [
  {
   "cell_type": "markdown",
   "metadata": {},
   "source": [
    "Enrollment No : 180280116024 <br>\n",
    "Sub : DAV"
   ]
  },
  {
   "cell_type": "markdown",
   "metadata": {},
   "source": [
    "<h1><center>Practical 1 </center></h1>"
   ]
  },
  {
   "cell_type": "markdown",
   "metadata": {},
   "source": [
    "<B>Aim :</B> Below data represent attributes for house price prediction.<br>\n",
    "'Price' is the response variable.<br>\n",
    "Identify the correlation between price and other variable.<br>\n",
    "1. Which attributes have the highest correlation?<br>\n",
    "2. Which attributes have the lowest correlation?<br>\n",
    "3. Write a brief interpretation of this correlation including strength, direction and explanation of effect."
   ]
  },
  {
   "cell_type": "code",
   "execution_count": 1,
   "metadata": {},
   "outputs": [],
   "source": [
    "#importing library\n",
    "import pandas as pd\n",
    "import matplotlib.pyplot as plt"
   ]
  },
  {
   "cell_type": "code",
   "execution_count": 2,
   "metadata": {},
   "outputs": [],
   "source": [
    "#load dataset\n",
    "House_price_data = pd.read_csv(\"HousePrice.csv\")"
   ]
  },
  {
   "cell_type": "code",
   "execution_count": 3,
   "metadata": {},
   "outputs": [
    {
     "data": {
      "text/html": [
       "<div>\n",
       "<style scoped>\n",
       "    .dataframe tbody tr th:only-of-type {\n",
       "        vertical-align: middle;\n",
       "    }\n",
       "\n",
       "    .dataframe tbody tr th {\n",
       "        vertical-align: top;\n",
       "    }\n",
       "\n",
       "    .dataframe thead th {\n",
       "        text-align: right;\n",
       "    }\n",
       "</style>\n",
       "<table border=\"1\" class=\"dataframe\">\n",
       "  <thead>\n",
       "    <tr style=\"text-align: right;\">\n",
       "      <th></th>\n",
       "      <th>sqrt_living</th>\n",
       "      <th>bedrooms</th>\n",
       "      <th>bathroom</th>\n",
       "      <th>price</th>\n",
       "    </tr>\n",
       "  </thead>\n",
       "  <tbody>\n",
       "    <tr>\n",
       "      <td>0</td>\n",
       "      <td>1340</td>\n",
       "      <td>3</td>\n",
       "      <td>1.50</td>\n",
       "      <td>313000</td>\n",
       "    </tr>\n",
       "    <tr>\n",
       "      <td>1</td>\n",
       "      <td>3650</td>\n",
       "      <td>5</td>\n",
       "      <td>2.50</td>\n",
       "      <td>2384000</td>\n",
       "    </tr>\n",
       "    <tr>\n",
       "      <td>2</td>\n",
       "      <td>1930</td>\n",
       "      <td>3</td>\n",
       "      <td>2.00</td>\n",
       "      <td>342000</td>\n",
       "    </tr>\n",
       "    <tr>\n",
       "      <td>3</td>\n",
       "      <td>2000</td>\n",
       "      <td>3</td>\n",
       "      <td>2.25</td>\n",
       "      <td>420000</td>\n",
       "    </tr>\n",
       "    <tr>\n",
       "      <td>4</td>\n",
       "      <td>1940</td>\n",
       "      <td>4</td>\n",
       "      <td>2.50</td>\n",
       "      <td>550000</td>\n",
       "    </tr>\n",
       "    <tr>\n",
       "      <td>5</td>\n",
       "      <td>880</td>\n",
       "      <td>2</td>\n",
       "      <td>1.00</td>\n",
       "      <td>490000</td>\n",
       "    </tr>\n",
       "    <tr>\n",
       "      <td>6</td>\n",
       "      <td>1350</td>\n",
       "      <td>2</td>\n",
       "      <td>2.00</td>\n",
       "      <td>335000</td>\n",
       "    </tr>\n",
       "    <tr>\n",
       "      <td>7</td>\n",
       "      <td>2710</td>\n",
       "      <td>4</td>\n",
       "      <td>2.50</td>\n",
       "      <td>482000</td>\n",
       "    </tr>\n",
       "    <tr>\n",
       "      <td>8</td>\n",
       "      <td>2430</td>\n",
       "      <td>3</td>\n",
       "      <td>2.50</td>\n",
       "      <td>452500</td>\n",
       "    </tr>\n",
       "    <tr>\n",
       "      <td>9</td>\n",
       "      <td>1520</td>\n",
       "      <td>4</td>\n",
       "      <td>2.00</td>\n",
       "      <td>640000</td>\n",
       "    </tr>\n",
       "  </tbody>\n",
       "</table>\n",
       "</div>"
      ],
      "text/plain": [
       "   sqrt_living  bedrooms  bathroom    price\n",
       "0         1340         3      1.50   313000\n",
       "1         3650         5      2.50  2384000\n",
       "2         1930         3      2.00   342000\n",
       "3         2000         3      2.25   420000\n",
       "4         1940         4      2.50   550000\n",
       "5          880         2      1.00   490000\n",
       "6         1350         2      2.00   335000\n",
       "7         2710         4      2.50   482000\n",
       "8         2430         3      2.50   452500\n",
       "9         1520         4      2.00   640000"
      ]
     },
     "execution_count": 3,
     "metadata": {},
     "output_type": "execute_result"
    }
   ],
   "source": [
    "#dataset\n",
    "House_price_data"
   ]
  },
  {
   "cell_type": "code",
   "execution_count": 4,
   "metadata": {},
   "outputs": [
    {
     "data": {
      "text/plain": [
       "0.73692569522368"
      ]
     },
     "execution_count": 4,
     "metadata": {},
     "output_type": "execute_result"
    }
   ],
   "source": [
    "# correlation between sqrt_living and price\n",
    "House_price_data[\"sqrt_living\"].corr(House_price_data[\"price\"])"
   ]
  },
  {
   "cell_type": "code",
   "execution_count": 5,
   "metadata": {},
   "outputs": [
    {
     "data": {
      "text/plain": [
       "0.6965374745879142"
      ]
     },
     "execution_count": 5,
     "metadata": {},
     "output_type": "execute_result"
    }
   ],
   "source": [
    "# correlation between bedrooms and price\n",
    "House_price_data[\"bedrooms\"].corr(House_price_data[\"price\"])"
   ]
  },
  {
   "cell_type": "code",
   "execution_count": 6,
   "metadata": {},
   "outputs": [
    {
     "data": {
      "text/plain": [
       "0.3260071845386135"
      ]
     },
     "execution_count": 6,
     "metadata": {},
     "output_type": "execute_result"
    }
   ],
   "source": [
    "# correlation between bathroom and price\n",
    "House_price_data[\"bathroom\"].corr(House_price_data[\"price\"])"
   ]
  },
  {
   "cell_type": "code",
   "execution_count": 7,
   "metadata": {},
   "outputs": [
    {
     "data": {
      "text/html": [
       "<div>\n",
       "<style scoped>\n",
       "    .dataframe tbody tr th:only-of-type {\n",
       "        vertical-align: middle;\n",
       "    }\n",
       "\n",
       "    .dataframe tbody tr th {\n",
       "        vertical-align: top;\n",
       "    }\n",
       "\n",
       "    .dataframe thead th {\n",
       "        text-align: right;\n",
       "    }\n",
       "</style>\n",
       "<table border=\"1\" class=\"dataframe\">\n",
       "  <thead>\n",
       "    <tr style=\"text-align: right;\">\n",
       "      <th></th>\n",
       "      <th>sqrt_living</th>\n",
       "      <th>bedrooms</th>\n",
       "      <th>bathroom</th>\n",
       "      <th>price</th>\n",
       "    </tr>\n",
       "  </thead>\n",
       "  <tbody>\n",
       "    <tr>\n",
       "      <td>sqrt_living</td>\n",
       "      <td>1.000000</td>\n",
       "      <td>0.778352</td>\n",
       "      <td>0.786290</td>\n",
       "      <td>0.736926</td>\n",
       "    </tr>\n",
       "    <tr>\n",
       "      <td>bedrooms</td>\n",
       "      <td>0.778352</td>\n",
       "      <td>1.000000</td>\n",
       "      <td>0.649123</td>\n",
       "      <td>0.696537</td>\n",
       "    </tr>\n",
       "    <tr>\n",
       "      <td>bathroom</td>\n",
       "      <td>0.786290</td>\n",
       "      <td>0.649123</td>\n",
       "      <td>1.000000</td>\n",
       "      <td>0.326007</td>\n",
       "    </tr>\n",
       "    <tr>\n",
       "      <td>price</td>\n",
       "      <td>0.736926</td>\n",
       "      <td>0.696537</td>\n",
       "      <td>0.326007</td>\n",
       "      <td>1.000000</td>\n",
       "    </tr>\n",
       "  </tbody>\n",
       "</table>\n",
       "</div>"
      ],
      "text/plain": [
       "             sqrt_living  bedrooms  bathroom     price\n",
       "sqrt_living     1.000000  0.778352  0.786290  0.736926\n",
       "bedrooms        0.778352  1.000000  0.649123  0.696537\n",
       "bathroom        0.786290  0.649123  1.000000  0.326007\n",
       "price           0.736926  0.696537  0.326007  1.000000"
      ]
     },
     "execution_count": 7,
     "metadata": {},
     "output_type": "execute_result"
    }
   ],
   "source": [
    "#matrix of correlation with all attributes with another\n",
    "House_price_data.corr()"
   ]
  },
  {
   "cell_type": "code",
   "execution_count": 8,
   "metadata": {},
   "outputs": [
    {
     "data": {
      "image/png": "[encoded data removed]",
      "text/plain": [
       "<Figure size 288x288 with 2 Axes>"
      ]
     },
     "metadata": {
      "needs_background": "light"
     },
     "output_type": "display_data"
    }
   ],
   "source": [
    "#visualize correlation with matplotlib library\n",
    "plt.matshow(House_price_data.corr())\n",
    "plt.xticks(range(len(House_price_data.columns)),House_price_data.columns)\n",
    "plt.yticks(range(len(House_price_data.columns)),House_price_data.columns)\n",
    "plt.colorbar()\n",
    "plt.show()"
   ]
  },
  {
   "cell_type": "markdown",
   "metadata": {},
   "source": [
    "### 1. Which attributes have the highest correlation?\n",
    "    - sqrt_living (squarefoot of house is highly corerelated with price of the house)"
   ]
  },
  {
   "cell_type": "markdown",
   "metadata": {},
   "source": [
    "### 2. Which attributes have the Lowest correlation?\n",
    "    - bathroom (Total no. of bathrooms are less correlated with price of the house)"
   ]
  },
  {
   "cell_type": "markdown",
   "metadata": {},
   "source": [
    "### 3. Write a brief interpretation of this correlation including strength, direction and explanation of effect.\n",
    "\n",
    "    - Correlation between sqrt_living and price is 0.73692569522368. It shows that \n",
    "        -> Strength of the correlation is high.\n",
    "        -> Direction of correlation is positive i.e. with increase in sqrt_living, price also increasing\n",
    "        -> Due to high strength, effect of sqrt_living attribute is high in given dataset.\n",
    "        \n",
    "    - Correlation between bedrooms and price is 0.6965374745879142. It shows that \n",
    "        -> Strength of the correlation is Normal.\n",
    "        -> Direction of correlation is positive i.e. with increase in bedrooms, price also increasing\n",
    "        -> Due to Normal strength, effect of bedrooms attribute is Normal in given dataset.\n",
    "        \n",
    "    - Correlation between bathroom and price is 0.3260071845386135. It shows that \n",
    "        -> Strength of the correlation is Low.\n",
    "        -> Direction of correlation is positive i.e. with increase in bathroom, price also increasing\n",
    "        -> Due to Low strength effect of bathroom attribute is Low in given dataset.\n",
    "        "
   ]
  },
  {
   "cell_type": "code",
   "execution_count": null,
   "metadata": {},
   "outputs": [],
   "source": []
  }
 ],
 "metadata": {
  "kernelspec": {
   "display_name": "Python 3",
   "language": "python",
   "name": "python3"
  },
  "language_info": {
   "codemirror_mode": {
    "name": "ipython",
    "version": 3
   },
   "file_extension": ".py",
   "mimetype": "text/x-python",
   "name": "python",
   "nbconvert_exporter": "python",
   "pygments_lexer": "ipython3",
   "version": "3.7.4"
  }
 },
 "nbformat": 4,
 "nbformat_minor": 2
}
