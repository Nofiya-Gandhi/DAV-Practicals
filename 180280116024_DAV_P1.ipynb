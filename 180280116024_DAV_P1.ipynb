{
 "cells": [
  {
   "cell_type": "markdown",
   "metadata": {},
   "source": [
    "Enrollment No. : 180280116024 <br>\n",
    "Subject : Data Analysis and Visualization"
   ]
  },
  {
   "cell_type": "markdown",
   "metadata": {},
   "source": [
    "<h1>PRACTICAL 1<h1>"
   ]
  },
  {
   "cell_type": "markdown",
   "metadata": {},
   "source": [
    "<b>AIM : </b> Prepare synthetic data set for student data, consisting of Enrollment number, name, gender, semester wise, subject wise marks,difficulty level of the subject, SPI(Semester Index), address with geographical location."
   ]
  },
  {
   "cell_type": "markdown",
   "metadata": {},
   "source": [
    "<ol>\n",
    "    <li>\n",
    "        <ol>\n",
    "            <li>Write a program to find correlation between gender and semester marks.</li>\n",
    "            <li>Write a program to find correlation between graphical location and semester marks.</li>\n",
    "            Analyze which two are highly correlated.\n",
    "        </ol>\n",
    "    </li>\n",
    "    <li>Write a program to Calculate correlation between difficulty level and subject marks. The higher the difficulty level the marks should be less. The two should be negatively correlated. Analyze the correlation. </li>\n",
    "</ol>"
   ]
  },
  {
   "cell_type": "code",
   "execution_count": 1,
   "metadata": {},
   "outputs": [],
   "source": [
    "# importing libraries\n",
    "import pandas as pd\n",
    "import matplotlib.pyplot as plt"
   ]
  },
  {
   "cell_type": "code",
   "execution_count": 2,
   "metadata": {},
   "outputs": [],
   "source": [
    "#importing dataset\n",
    "student_data = pd.read_csv(\"Sudent1.csv\")"
   ]
  },
  {
   "cell_type": "code",
   "execution_count": 3,
   "metadata": {},
   "outputs": [
    {
     "data": {
      "text/html": [
       "<div>\n",
       "<style scoped>\n",
       "    .dataframe tbody tr th:only-of-type {\n",
       "        vertical-align: middle;\n",
       "    }\n",
       "\n",
       "    .dataframe tbody tr th {\n",
       "        vertical-align: top;\n",
       "    }\n",
       "\n",
       "    .dataframe thead th {\n",
       "        text-align: right;\n",
       "    }\n",
       "</style>\n",
       "<table border=\"1\" class=\"dataframe\">\n",
       "  <thead>\n",
       "    <tr style=\"text-align: right;\">\n",
       "      <th></th>\n",
       "      <th>EnrollmentNo</th>\n",
       "      <th>Name</th>\n",
       "      <th>Gen</th>\n",
       "      <th>Semester</th>\n",
       "      <th>sub1_Marks</th>\n",
       "      <th>Sub1_DifficultyLevel</th>\n",
       "      <th>sub2_Marks</th>\n",
       "      <th>Sub2_DifficultyLevel</th>\n",
       "      <th>sub3_Marks</th>\n",
       "      <th>Sub3_DifficultyLevel</th>\n",
       "      <th>SPI</th>\n",
       "      <th>Location</th>\n",
       "    </tr>\n",
       "  </thead>\n",
       "  <tbody>\n",
       "    <tr>\n",
       "      <td>0</td>\n",
       "      <td>101</td>\n",
       "      <td>Beth</td>\n",
       "      <td>0</td>\n",
       "      <td>3</td>\n",
       "      <td>33</td>\n",
       "      <td>7</td>\n",
       "      <td>46</td>\n",
       "      <td>6</td>\n",
       "      <td>26</td>\n",
       "      <td>8</td>\n",
       "      <td>3.39</td>\n",
       "      <td>6</td>\n",
       "    </tr>\n",
       "    <tr>\n",
       "      <td>1</td>\n",
       "      <td>102</td>\n",
       "      <td>Sharon</td>\n",
       "      <td>0</td>\n",
       "      <td>3</td>\n",
       "      <td>99</td>\n",
       "      <td>1</td>\n",
       "      <td>92</td>\n",
       "      <td>1</td>\n",
       "      <td>43</td>\n",
       "      <td>6</td>\n",
       "      <td>9.92</td>\n",
       "      <td>4</td>\n",
       "    </tr>\n",
       "    <tr>\n",
       "      <td>2</td>\n",
       "      <td>103</td>\n",
       "      <td>Linda</td>\n",
       "      <td>0</td>\n",
       "      <td>3</td>\n",
       "      <td>83</td>\n",
       "      <td>2</td>\n",
       "      <td>93</td>\n",
       "      <td>1</td>\n",
       "      <td>72</td>\n",
       "      <td>3</td>\n",
       "      <td>8.34</td>\n",
       "      <td>3</td>\n",
       "    </tr>\n",
       "    <tr>\n",
       "      <td>3</td>\n",
       "      <td>104</td>\n",
       "      <td>Lindsay</td>\n",
       "      <td>0</td>\n",
       "      <td>5</td>\n",
       "      <td>94</td>\n",
       "      <td>1</td>\n",
       "      <td>90</td>\n",
       "      <td>1</td>\n",
       "      <td>96</td>\n",
       "      <td>1</td>\n",
       "      <td>9.46</td>\n",
       "      <td>4</td>\n",
       "    </tr>\n",
       "    <tr>\n",
       "      <td>4</td>\n",
       "      <td>105</td>\n",
       "      <td>Chad</td>\n",
       "      <td>1</td>\n",
       "      <td>3</td>\n",
       "      <td>48</td>\n",
       "      <td>6</td>\n",
       "      <td>64</td>\n",
       "      <td>4</td>\n",
       "      <td>75</td>\n",
       "      <td>3</td>\n",
       "      <td>4.83</td>\n",
       "      <td>7</td>\n",
       "    </tr>\n",
       "  </tbody>\n",
       "</table>\n",
       "</div>"
      ],
      "text/plain": [
       "   EnrollmentNo     Name  Gen  Semester  sub1_Marks  Sub1_DifficultyLevel  \\\n",
       "0           101     Beth    0         3          33                     7   \n",
       "1           102   Sharon    0         3          99                     1   \n",
       "2           103    Linda    0         3          83                     2   \n",
       "3           104  Lindsay    0         5          94                     1   \n",
       "4           105     Chad    1         3          48                     6   \n",
       "\n",
       "   sub2_Marks  Sub2_DifficultyLevel  sub3_Marks  Sub3_DifficultyLevel   SPI  \\\n",
       "0          46                     6          26                     8  3.39   \n",
       "1          92                     1          43                     6  9.92   \n",
       "2          93                     1          72                     3  8.34   \n",
       "3          90                     1          96                     1  9.46   \n",
       "4          64                     4          75                     3  4.83   \n",
       "\n",
       "   Location  \n",
       "0         6  \n",
       "1         4  \n",
       "2         3  \n",
       "3         4  \n",
       "4         7  "
      ]
     },
     "execution_count": 3,
     "metadata": {},
     "output_type": "execute_result"
    }
   ],
   "source": [
    "student_data.head()"
   ]
  },
  {
   "cell_type": "code",
   "execution_count": 4,
   "metadata": {},
   "outputs": [
    {
     "data": {
      "text/plain": [
       "-0.235655337808008"
      ]
     },
     "execution_count": 4,
     "metadata": {},
     "output_type": "execute_result"
    }
   ],
   "source": [
    "#correlation between gender and semester marks\n",
    "\n",
    "student_data[\"SPI\"].corr(student_data[\"Gen\"])"
   ]
  },
  {
   "cell_type": "code",
   "execution_count": 5,
   "metadata": {},
   "outputs": [
    {
     "data": {
      "text/plain": [
       "-0.5950024534072343"
      ]
     },
     "execution_count": 5,
     "metadata": {},
     "output_type": "execute_result"
    }
   ],
   "source": [
    "#correlation between graphical location and semester marks\n",
    "\n",
    "student_data[\"Location\"].corr(student_data[\"SPI\"])"
   ]
  },
  {
   "cell_type": "code",
   "execution_count": 6,
   "metadata": {},
   "outputs": [
    {
     "data": {
      "text/plain": [
       "-0.988159186762203"
      ]
     },
     "execution_count": 6,
     "metadata": {},
     "output_type": "execute_result"
    }
   ],
   "source": [
    "#correlation between difficulty level and subject1 marks\n",
    "\n",
    "student_data[\"Sub1_DifficultyLevel\"].corr(student_data[\"sub1_Marks\"])"
   ]
  },
  {
   "cell_type": "code",
   "execution_count": 7,
   "metadata": {},
   "outputs": [
    {
     "data": {
      "text/plain": [
       "-0.9940967027893626"
      ]
     },
     "execution_count": 7,
     "metadata": {},
     "output_type": "execute_result"
    }
   ],
   "source": [
    "#correlation between difficulty level and subject2 marks\n",
    "\n",
    "student_data[\"Sub2_DifficultyLevel\"].corr(student_data[\"sub2_Marks\"])"
   ]
  },
  {
   "cell_type": "code",
   "execution_count": 8,
   "metadata": {},
   "outputs": [
    {
     "data": {
      "text/plain": [
       "-0.9929912655504624"
      ]
     },
     "execution_count": 8,
     "metadata": {},
     "output_type": "execute_result"
    }
   ],
   "source": [
    "#correlation between difficulty level and subject3 marks\n",
    "\n",
    "student_data[\"Sub3_DifficultyLevel\"].corr(student_data[\"sub3_Marks\"])"
   ]
  },
  {
   "cell_type": "code",
   "execution_count": 9,
   "metadata": {
    "scrolled": true
   },
   "outputs": [
    {
     "data": {
      "text/html": [
       "<div>\n",
       "<style scoped>\n",
       "    .dataframe tbody tr th:only-of-type {\n",
       "        vertical-align: middle;\n",
       "    }\n",
       "\n",
       "    .dataframe tbody tr th {\n",
       "        vertical-align: top;\n",
       "    }\n",
       "\n",
       "    .dataframe thead th {\n",
       "        text-align: right;\n",
       "    }\n",
       "</style>\n",
       "<table border=\"1\" class=\"dataframe\">\n",
       "  <thead>\n",
       "    <tr style=\"text-align: right;\">\n",
       "      <th></th>\n",
       "      <th>EnrollmentNo</th>\n",
       "      <th>Gen</th>\n",
       "      <th>Semester</th>\n",
       "      <th>sub1_Marks</th>\n",
       "      <th>Sub1_DifficultyLevel</th>\n",
       "      <th>sub2_Marks</th>\n",
       "      <th>Sub2_DifficultyLevel</th>\n",
       "      <th>sub3_Marks</th>\n",
       "      <th>Sub3_DifficultyLevel</th>\n",
       "      <th>SPI</th>\n",
       "      <th>Location</th>\n",
       "    </tr>\n",
       "  </thead>\n",
       "  <tbody>\n",
       "    <tr>\n",
       "      <td>EnrollmentNo</td>\n",
       "      <td>1.000000</td>\n",
       "      <td>0.076471</td>\n",
       "      <td>0.192349</td>\n",
       "      <td>0.054940</td>\n",
       "      <td>-0.043840</td>\n",
       "      <td>-0.169491</td>\n",
       "      <td>0.193173</td>\n",
       "      <td>0.159212</td>\n",
       "      <td>-0.190880</td>\n",
       "      <td>0.055428</td>\n",
       "      <td>-0.027981</td>\n",
       "    </tr>\n",
       "    <tr>\n",
       "      <td>Gen</td>\n",
       "      <td>0.076471</td>\n",
       "      <td>1.000000</td>\n",
       "      <td>-0.053661</td>\n",
       "      <td>-0.235734</td>\n",
       "      <td>0.236677</td>\n",
       "      <td>-0.147925</td>\n",
       "      <td>0.170146</td>\n",
       "      <td>0.102175</td>\n",
       "      <td>-0.077615</td>\n",
       "      <td>-0.235655</td>\n",
       "      <td>0.054011</td>\n",
       "    </tr>\n",
       "    <tr>\n",
       "      <td>Semester</td>\n",
       "      <td>0.192349</td>\n",
       "      <td>-0.053661</td>\n",
       "      <td>1.000000</td>\n",
       "      <td>-0.026811</td>\n",
       "      <td>0.023155</td>\n",
       "      <td>0.128957</td>\n",
       "      <td>-0.121921</td>\n",
       "      <td>-0.067811</td>\n",
       "      <td>0.056832</td>\n",
       "      <td>-0.027259</td>\n",
       "      <td>0.032725</td>\n",
       "    </tr>\n",
       "    <tr>\n",
       "      <td>sub1_Marks</td>\n",
       "      <td>0.054940</td>\n",
       "      <td>-0.235734</td>\n",
       "      <td>-0.026811</td>\n",
       "      <td>1.000000</td>\n",
       "      <td>-0.988159</td>\n",
       "      <td>-0.121683</td>\n",
       "      <td>0.080914</td>\n",
       "      <td>0.197149</td>\n",
       "      <td>-0.202143</td>\n",
       "      <td>0.999933</td>\n",
       "      <td>-0.593042</td>\n",
       "    </tr>\n",
       "    <tr>\n",
       "      <td>Sub1_DifficultyLevel</td>\n",
       "      <td>-0.043840</td>\n",
       "      <td>0.236677</td>\n",
       "      <td>0.023155</td>\n",
       "      <td>-0.988159</td>\n",
       "      <td>1.000000</td>\n",
       "      <td>0.130595</td>\n",
       "      <td>-0.088300</td>\n",
       "      <td>-0.193577</td>\n",
       "      <td>0.191937</td>\n",
       "      <td>-0.988057</td>\n",
       "      <td>0.615294</td>\n",
       "    </tr>\n",
       "    <tr>\n",
       "      <td>sub2_Marks</td>\n",
       "      <td>-0.169491</td>\n",
       "      <td>-0.147925</td>\n",
       "      <td>0.128957</td>\n",
       "      <td>-0.121683</td>\n",
       "      <td>0.130595</td>\n",
       "      <td>1.000000</td>\n",
       "      <td>-0.994097</td>\n",
       "      <td>-0.196026</td>\n",
       "      <td>0.179057</td>\n",
       "      <td>-0.123513</td>\n",
       "      <td>0.221053</td>\n",
       "    </tr>\n",
       "    <tr>\n",
       "      <td>Sub2_DifficultyLevel</td>\n",
       "      <td>0.193173</td>\n",
       "      <td>0.170146</td>\n",
       "      <td>-0.121921</td>\n",
       "      <td>0.080914</td>\n",
       "      <td>-0.088300</td>\n",
       "      <td>-0.994097</td>\n",
       "      <td>1.000000</td>\n",
       "      <td>0.198291</td>\n",
       "      <td>-0.182728</td>\n",
       "      <td>0.082882</td>\n",
       "      <td>-0.203066</td>\n",
       "    </tr>\n",
       "    <tr>\n",
       "      <td>sub3_Marks</td>\n",
       "      <td>0.159212</td>\n",
       "      <td>0.102175</td>\n",
       "      <td>-0.067811</td>\n",
       "      <td>0.197149</td>\n",
       "      <td>-0.193577</td>\n",
       "      <td>-0.196026</td>\n",
       "      <td>0.198291</td>\n",
       "      <td>1.000000</td>\n",
       "      <td>-0.992991</td>\n",
       "      <td>0.197506</td>\n",
       "      <td>-0.127806</td>\n",
       "    </tr>\n",
       "    <tr>\n",
       "      <td>Sub3_DifficultyLevel</td>\n",
       "      <td>-0.190880</td>\n",
       "      <td>-0.077615</td>\n",
       "      <td>0.056832</td>\n",
       "      <td>-0.202143</td>\n",
       "      <td>0.191937</td>\n",
       "      <td>0.179057</td>\n",
       "      <td>-0.182728</td>\n",
       "      <td>-0.992991</td>\n",
       "      <td>1.000000</td>\n",
       "      <td>-0.202730</td>\n",
       "      <td>0.115976</td>\n",
       "    </tr>\n",
       "    <tr>\n",
       "      <td>SPI</td>\n",
       "      <td>0.055428</td>\n",
       "      <td>-0.235655</td>\n",
       "      <td>-0.027259</td>\n",
       "      <td>0.999933</td>\n",
       "      <td>-0.988057</td>\n",
       "      <td>-0.123513</td>\n",
       "      <td>0.082882</td>\n",
       "      <td>0.197506</td>\n",
       "      <td>-0.202730</td>\n",
       "      <td>1.000000</td>\n",
       "      <td>-0.595002</td>\n",
       "    </tr>\n",
       "    <tr>\n",
       "      <td>Location</td>\n",
       "      <td>-0.027981</td>\n",
       "      <td>0.054011</td>\n",
       "      <td>0.032725</td>\n",
       "      <td>-0.593042</td>\n",
       "      <td>0.615294</td>\n",
       "      <td>0.221053</td>\n",
       "      <td>-0.203066</td>\n",
       "      <td>-0.127806</td>\n",
       "      <td>0.115976</td>\n",
       "      <td>-0.595002</td>\n",
       "      <td>1.000000</td>\n",
       "    </tr>\n",
       "  </tbody>\n",
       "</table>\n",
       "</div>"
      ],
      "text/plain": [
       "                      EnrollmentNo       Gen  Semester  sub1_Marks  \\\n",
       "EnrollmentNo              1.000000  0.076471  0.192349    0.054940   \n",
       "Gen                       0.076471  1.000000 -0.053661   -0.235734   \n",
       "Semester                  0.192349 -0.053661  1.000000   -0.026811   \n",
       "sub1_Marks                0.054940 -0.235734 -0.026811    1.000000   \n",
       "Sub1_DifficultyLevel     -0.043840  0.236677  0.023155   -0.988159   \n",
       "sub2_Marks               -0.169491 -0.147925  0.128957   -0.121683   \n",
       "Sub2_DifficultyLevel      0.193173  0.170146 -0.121921    0.080914   \n",
       "sub3_Marks                0.159212  0.102175 -0.067811    0.197149   \n",
       "Sub3_DifficultyLevel     -0.190880 -0.077615  0.056832   -0.202143   \n",
       "SPI                       0.055428 -0.235655 -0.027259    0.999933   \n",
       "Location                 -0.027981  0.054011  0.032725   -0.593042   \n",
       "\n",
       "                      Sub1_DifficultyLevel  sub2_Marks  Sub2_DifficultyLevel  \\\n",
       "EnrollmentNo                     -0.043840   -0.169491              0.193173   \n",
       "Gen                               0.236677   -0.147925              0.170146   \n",
       "Semester                          0.023155    0.128957             -0.121921   \n",
       "sub1_Marks                       -0.988159   -0.121683              0.080914   \n",
       "Sub1_DifficultyLevel              1.000000    0.130595             -0.088300   \n",
       "sub2_Marks                        0.130595    1.000000             -0.994097   \n",
       "Sub2_DifficultyLevel             -0.088300   -0.994097              1.000000   \n",
       "sub3_Marks                       -0.193577   -0.196026              0.198291   \n",
       "Sub3_DifficultyLevel              0.191937    0.179057             -0.182728   \n",
       "SPI                              -0.988057   -0.123513              0.082882   \n",
       "Location                          0.615294    0.221053             -0.203066   \n",
       "\n",
       "                      sub3_Marks  Sub3_DifficultyLevel       SPI  Location  \n",
       "EnrollmentNo            0.159212             -0.190880  0.055428 -0.027981  \n",
       "Gen                     0.102175             -0.077615 -0.235655  0.054011  \n",
       "Semester               -0.067811              0.056832 -0.027259  0.032725  \n",
       "sub1_Marks              0.197149             -0.202143  0.999933 -0.593042  \n",
       "Sub1_DifficultyLevel   -0.193577              0.191937 -0.988057  0.615294  \n",
       "sub2_Marks             -0.196026              0.179057 -0.123513  0.221053  \n",
       "Sub2_DifficultyLevel    0.198291             -0.182728  0.082882 -0.203066  \n",
       "sub3_Marks              1.000000             -0.992991  0.197506 -0.127806  \n",
       "Sub3_DifficultyLevel   -0.992991              1.000000 -0.202730  0.115976  \n",
       "SPI                     0.197506             -0.202730  1.000000 -0.595002  \n",
       "Location               -0.127806              0.115976 -0.595002  1.000000  "
      ]
     },
     "execution_count": 9,
     "metadata": {},
     "output_type": "execute_result"
    }
   ],
   "source": [
    "student_data.corr()"
   ]
  },
  {
   "cell_type": "code",
   "execution_count": 10,
   "metadata": {},
   "outputs": [
    {
     "data": {
      "image/png": "[encoded data removed]",
      "text/plain": [
       "<Figure size 288x288 with 2 Axes>"
      ]
     },
     "metadata": {
      "needs_background": "light"
     },
     "output_type": "display_data"
    }
   ],
   "source": [
    "#visualize correlation with matplotlib library\n",
    "plt.matshow(student_data.corr())\n",
    "plt.xticks(range(len(student_data.columns)),student_data.columns, rotation = 90)\n",
    "plt.yticks(range(len(student_data.columns)),student_data.columns)\n",
    "plt.colorbar()\n",
    "plt.show()"
   ]
  },
  {
   "cell_type": "code",
   "execution_count": null,
   "metadata": {},
   "outputs": [],
   "source": []
  }
 ],
 "metadata": {
  "kernelspec": {
   "display_name": "Python 3",
   "language": "python",
   "name": "python3"
  },
  "language_info": {
   "codemirror_mode": {
    "name": "ipython",
    "version": 3
   },
   "file_extension": ".py",
   "mimetype": "text/x-python",
   "name": "python",
   "nbconvert_exporter": "python",
   "pygments_lexer": "ipython3",
   "version": "3.7.4"
  }
 },
 "nbformat": 4,
 "nbformat_minor": 2
}
