{
 "cells": [
  {
   "cell_type": "markdown",
   "metadata": {},
   "source": [
    "Enrollment No. : 180280116024 <br>\n",
    "Subject : Data Analysis and Visualization"
   ]
  },
  {
   "cell_type": "markdown",
   "metadata": {},
   "source": [
    "<h1>PRACTICAL 2<h1>"
   ]
  },
  {
   "cell_type": "markdown",
   "metadata": {},
   "source": [
    "<b>AIM : </b> Consider the sample of 50 students. Gather the university exam score of the students across all semester of Engineering for one college. Write a program to find out mean and standerd deviation of for this college.Now, consider the sample of students of different colleges of Gujarat for university exam score. Write a program to find out mean and standerd deviation. Write the observation."
   ]
  },
  {
   "cell_type": "code",
   "execution_count": 1,
   "metadata": {},
   "outputs": [],
   "source": [
    "# importing libraries\n",
    "import pandas as pd"
   ]
  },
  {
   "cell_type": "code",
   "execution_count": 2,
   "metadata": {},
   "outputs": [],
   "source": [
    "#importing dataset\n",
    "student_data = pd.read_csv(\"Sudent2.csv\")"
   ]
  },
  {
   "cell_type": "code",
   "execution_count": 3,
   "metadata": {},
   "outputs": [
    {
     "data": {
      "text/html": [
       "<div>\n",
       "<style scoped>\n",
       "    .dataframe tbody tr th:only-of-type {\n",
       "        vertical-align: middle;\n",
       "    }\n",
       "\n",
       "    .dataframe tbody tr th {\n",
       "        vertical-align: top;\n",
       "    }\n",
       "\n",
       "    .dataframe thead th {\n",
       "        text-align: right;\n",
       "    }\n",
       "</style>\n",
       "<table border=\"1\" class=\"dataframe\">\n",
       "  <thead>\n",
       "    <tr style=\"text-align: right;\">\n",
       "      <th></th>\n",
       "      <th>EnrollmentNo</th>\n",
       "      <th>Name</th>\n",
       "      <th>Gen</th>\n",
       "      <th>Semester</th>\n",
       "      <th>Exam_Score</th>\n",
       "      <th>College_Name</th>\n",
       "    </tr>\n",
       "  </thead>\n",
       "  <tbody>\n",
       "    <tr>\n",
       "      <td>0</td>\n",
       "      <td>101</td>\n",
       "      <td>Beth</td>\n",
       "      <td>0</td>\n",
       "      <td>3</td>\n",
       "      <td>3.39</td>\n",
       "      <td>GEC</td>\n",
       "    </tr>\n",
       "    <tr>\n",
       "      <td>1</td>\n",
       "      <td>102</td>\n",
       "      <td>Sharon</td>\n",
       "      <td>0</td>\n",
       "      <td>3</td>\n",
       "      <td>9.92</td>\n",
       "      <td>LDCE</td>\n",
       "    </tr>\n",
       "    <tr>\n",
       "      <td>2</td>\n",
       "      <td>103</td>\n",
       "      <td>Linda</td>\n",
       "      <td>0</td>\n",
       "      <td>3</td>\n",
       "      <td>8.34</td>\n",
       "      <td>LDCE</td>\n",
       "    </tr>\n",
       "    <tr>\n",
       "      <td>3</td>\n",
       "      <td>104</td>\n",
       "      <td>Lindsay</td>\n",
       "      <td>0</td>\n",
       "      <td>5</td>\n",
       "      <td>9.46</td>\n",
       "      <td>LDCE</td>\n",
       "    </tr>\n",
       "    <tr>\n",
       "      <td>4</td>\n",
       "      <td>105</td>\n",
       "      <td>Chad</td>\n",
       "      <td>1</td>\n",
       "      <td>3</td>\n",
       "      <td>4.83</td>\n",
       "      <td>BVM</td>\n",
       "    </tr>\n",
       "  </tbody>\n",
       "</table>\n",
       "</div>"
      ],
      "text/plain": [
       "   EnrollmentNo     Name  Gen  Semester  Exam_Score College_Name\n",
       "0           101     Beth    0         3        3.39          GEC\n",
       "1           102   Sharon    0         3        9.92         LDCE\n",
       "2           103    Linda    0         3        8.34         LDCE\n",
       "3           104  Lindsay    0         5        9.46         LDCE\n",
       "4           105     Chad    1         3        4.83          BVM"
      ]
     },
     "execution_count": 3,
     "metadata": {},
     "output_type": "execute_result"
    }
   ],
   "source": [
    "student_data.head()"
   ]
  },
  {
   "cell_type": "code",
   "execution_count": 4,
   "metadata": {},
   "outputs": [],
   "source": [
    "LDCE_Students = student_data.loc[student_data[\"College_Name\"] == \"LDCE\"]"
   ]
  },
  {
   "cell_type": "code",
   "execution_count": 5,
   "metadata": {},
   "outputs": [
    {
     "data": {
      "text/html": [
       "<div>\n",
       "<style scoped>\n",
       "    .dataframe tbody tr th:only-of-type {\n",
       "        vertical-align: middle;\n",
       "    }\n",
       "\n",
       "    .dataframe tbody tr th {\n",
       "        vertical-align: top;\n",
       "    }\n",
       "\n",
       "    .dataframe thead th {\n",
       "        text-align: right;\n",
       "    }\n",
       "</style>\n",
       "<table border=\"1\" class=\"dataframe\">\n",
       "  <thead>\n",
       "    <tr style=\"text-align: right;\">\n",
       "      <th></th>\n",
       "      <th>EnrollmentNo</th>\n",
       "      <th>Name</th>\n",
       "      <th>Gen</th>\n",
       "      <th>Semester</th>\n",
       "      <th>Exam_Score</th>\n",
       "      <th>College_Name</th>\n",
       "    </tr>\n",
       "  </thead>\n",
       "  <tbody>\n",
       "    <tr>\n",
       "      <td>1</td>\n",
       "      <td>102</td>\n",
       "      <td>Sharon</td>\n",
       "      <td>0</td>\n",
       "      <td>3</td>\n",
       "      <td>9.92</td>\n",
       "      <td>LDCE</td>\n",
       "    </tr>\n",
       "    <tr>\n",
       "      <td>2</td>\n",
       "      <td>103</td>\n",
       "      <td>Linda</td>\n",
       "      <td>0</td>\n",
       "      <td>3</td>\n",
       "      <td>8.34</td>\n",
       "      <td>LDCE</td>\n",
       "    </tr>\n",
       "    <tr>\n",
       "      <td>3</td>\n",
       "      <td>104</td>\n",
       "      <td>Lindsay</td>\n",
       "      <td>0</td>\n",
       "      <td>5</td>\n",
       "      <td>9.46</td>\n",
       "      <td>LDCE</td>\n",
       "    </tr>\n",
       "    <tr>\n",
       "      <td>6</td>\n",
       "      <td>107</td>\n",
       "      <td>Daniel</td>\n",
       "      <td>1</td>\n",
       "      <td>3</td>\n",
       "      <td>6.12</td>\n",
       "      <td>LDCE</td>\n",
       "    </tr>\n",
       "    <tr>\n",
       "      <td>13</td>\n",
       "      <td>114</td>\n",
       "      <td>Joseph</td>\n",
       "      <td>1</td>\n",
       "      <td>3</td>\n",
       "      <td>7.45</td>\n",
       "      <td>LDCE</td>\n",
       "    </tr>\n",
       "  </tbody>\n",
       "</table>\n",
       "</div>"
      ],
      "text/plain": [
       "    EnrollmentNo     Name  Gen  Semester  Exam_Score College_Name\n",
       "1            102   Sharon    0         3        9.92         LDCE\n",
       "2            103    Linda    0         3        8.34         LDCE\n",
       "3            104  Lindsay    0         5        9.46         LDCE\n",
       "6            107   Daniel    1         3        6.12         LDCE\n",
       "13           114   Joseph    1         3        7.45         LDCE"
      ]
     },
     "execution_count": 5,
     "metadata": {},
     "output_type": "execute_result"
    }
   ],
   "source": [
    "LDCE_Students.head()"
   ]
  },
  {
   "cell_type": "code",
   "execution_count": 6,
   "metadata": {},
   "outputs": [
    {
     "data": {
      "text/plain": [
       "(18, 6)"
      ]
     },
     "execution_count": 6,
     "metadata": {},
     "output_type": "execute_result"
    }
   ],
   "source": [
    "LDCE_Students.shape"
   ]
  },
  {
   "cell_type": "code",
   "execution_count": 7,
   "metadata": {},
   "outputs": [
    {
     "data": {
      "text/plain": [
       "8.111666666666668"
      ]
     },
     "execution_count": 7,
     "metadata": {},
     "output_type": "execute_result"
    }
   ],
   "source": [
    "#mean of LDCE student Exam Score\n",
    "LDCE_Students[\"Exam_Score\"].mean()"
   ]
  },
  {
   "cell_type": "code",
   "execution_count": 8,
   "metadata": {},
   "outputs": [
    {
     "data": {
      "text/plain": [
       "1.625058369992399"
      ]
     },
     "execution_count": 8,
     "metadata": {},
     "output_type": "execute_result"
    }
   ],
   "source": [
    "#standerd deviation of LDCE student Exam Score\n",
    "LDCE_Students[\"Exam_Score\"].std()"
   ]
  },
  {
   "cell_type": "code",
   "execution_count": 9,
   "metadata": {},
   "outputs": [
    {
     "data": {
      "text/plain": [
       "6.773600000000003"
      ]
     },
     "execution_count": 9,
     "metadata": {},
     "output_type": "execute_result"
    }
   ],
   "source": [
    "#mean of all student Exam Score\n",
    "student_data[\"Exam_Score\"].mean()"
   ]
  },
  {
   "cell_type": "code",
   "execution_count": 10,
   "metadata": {},
   "outputs": [
    {
     "data": {
      "text/plain": [
       "1.9587582072031544"
      ]
     },
     "execution_count": 10,
     "metadata": {},
     "output_type": "execute_result"
    }
   ],
   "source": [
    "#standerd deviation of all student Exam Score\n",
    "student_data[\"Exam_Score\"].std()"
   ]
  },
  {
   "cell_type": "code",
   "execution_count": null,
   "metadata": {},
   "outputs": [],
   "source": []
  }
 ],
 "metadata": {
  "kernelspec": {
   "display_name": "Python 3",
   "language": "python",
   "name": "python3"
  },
  "language_info": {
   "codemirror_mode": {
    "name": "ipython",
    "version": 3
   },
   "file_extension": ".py",
   "mimetype": "text/x-python",
   "name": "python",
   "nbconvert_exporter": "python",
   "pygments_lexer": "ipython3",
   "version": "3.7.4"
  }
 },
 "nbformat": 4,
 "nbformat_minor": 2
}
