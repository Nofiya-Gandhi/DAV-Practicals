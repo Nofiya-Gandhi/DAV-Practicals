{
 "cells": [
  {
   "cell_type": "markdown",
   "metadata": {},
   "source": [
    "Enrollment No : 180280116024 <br>\n",
    "Sub : DAV"
   ]
  },
  {
   "cell_type": "markdown",
   "metadata": {},
   "source": [
    "<h1><center>Practical 15 </center></h1>"
   ]
  },
  {
   "cell_type": "markdown",
   "metadata": {},
   "source": [
    "<B>Aim :</B> Do data analysis for sales of moblie on an E-commerce website.<br>\n",
    "Prepare your own dataset with at least 20 records in EXCEL with following fields<br>\n",
    "- customer_ID, name, gender, place, month_of_purchase, brand_of_mobile, cost_of_mobile<br>\n",
    "Keep some data null. <br><br>\n",
    "Perform following operations in python<br>\n",
    "1.Check null fields,put mean value in that.<br>\n",
    "2.Calculate Mean, Median and Standard Deviation for cost_of_mobile field.<br>\n",
    "3.Calculate Mode for cost_of_mobile field.<br>\n",
    "4.Find out month with highest no. of sales of mobile.<br>\n",
    "5.Display with proper chart for - <br>\n",
    "    - No. of mobiles sold in each month.\n",
    "    - Profits earned in each month.\n",
    "    - Market Share of each Brand."
   ]
  },
  {
   "cell_type": "code",
   "execution_count": 1,
   "metadata": {},
   "outputs": [],
   "source": [
    "#import libraries\n",
    "\n",
    "import pandas as pd\n",
    "import matplotlib.pyplot as plt"
   ]
  },
  {
   "cell_type": "code",
   "execution_count": 2,
   "metadata": {},
   "outputs": [],
   "source": [
    "#Load Dataset\n",
    "Customer_Data = pd.read_csv('Customer.csv')"
   ]
  },
  {
   "cell_type": "code",
   "execution_count": 3,
   "metadata": {},
   "outputs": [
    {
     "data": {
      "text/html": [
       "<div>\n",
       "<style scoped>\n",
       "    .dataframe tbody tr th:only-of-type {\n",
       "        vertical-align: middle;\n",
       "    }\n",
       "\n",
       "    .dataframe tbody tr th {\n",
       "        vertical-align: top;\n",
       "    }\n",
       "\n",
       "    .dataframe thead th {\n",
       "        text-align: right;\n",
       "    }\n",
       "</style>\n",
       "<table border=\"1\" class=\"dataframe\">\n",
       "  <thead>\n",
       "    <tr style=\"text-align: right;\">\n",
       "      <th></th>\n",
       "      <th>customer_ID</th>\n",
       "      <th>name</th>\n",
       "      <th>gender</th>\n",
       "      <th>place</th>\n",
       "      <th>month_of_purchase</th>\n",
       "      <th>brand_of_mobile</th>\n",
       "      <th>cost_of_mobile</th>\n",
       "    </tr>\n",
       "  </thead>\n",
       "  <tbody>\n",
       "    <tr>\n",
       "      <td>0</td>\n",
       "      <td>C1</td>\n",
       "      <td>Beth</td>\n",
       "      <td>F</td>\n",
       "      <td>Amazon</td>\n",
       "      <td>1.0</td>\n",
       "      <td>mi</td>\n",
       "      <td>15000.0</td>\n",
       "    </tr>\n",
       "    <tr>\n",
       "      <td>1</td>\n",
       "      <td>C2</td>\n",
       "      <td>Sharon</td>\n",
       "      <td>F</td>\n",
       "      <td>Flipcart</td>\n",
       "      <td>9.0</td>\n",
       "      <td>vivo</td>\n",
       "      <td>10000.0</td>\n",
       "    </tr>\n",
       "    <tr>\n",
       "      <td>2</td>\n",
       "      <td>C3</td>\n",
       "      <td>Linda</td>\n",
       "      <td>F</td>\n",
       "      <td>Flipcart</td>\n",
       "      <td>8.0</td>\n",
       "      <td>mi</td>\n",
       "      <td>12000.0</td>\n",
       "    </tr>\n",
       "    <tr>\n",
       "      <td>3</td>\n",
       "      <td>C4</td>\n",
       "      <td>Lindsay</td>\n",
       "      <td>F</td>\n",
       "      <td>Amazon</td>\n",
       "      <td>6.0</td>\n",
       "      <td>mi</td>\n",
       "      <td>15000.0</td>\n",
       "    </tr>\n",
       "    <tr>\n",
       "      <td>4</td>\n",
       "      <td>C5</td>\n",
       "      <td>Chad</td>\n",
       "      <td>M</td>\n",
       "      <td>Flipcart</td>\n",
       "      <td>9.0</td>\n",
       "      <td>mi</td>\n",
       "      <td>13000.0</td>\n",
       "    </tr>\n",
       "  </tbody>\n",
       "</table>\n",
       "</div>"
      ],
      "text/plain": [
       "  customer_ID     name gender     place  month_of_purchase brand_of_mobile  \\\n",
       "0          C1     Beth      F    Amazon                1.0              mi   \n",
       "1          C2   Sharon      F  Flipcart                9.0            vivo   \n",
       "2          C3    Linda      F  Flipcart                8.0              mi   \n",
       "3          C4  Lindsay      F    Amazon                6.0              mi   \n",
       "4          C5     Chad      M  Flipcart                9.0              mi   \n",
       "\n",
       "   cost_of_mobile  \n",
       "0         15000.0  \n",
       "1         10000.0  \n",
       "2         12000.0  \n",
       "3         15000.0  \n",
       "4         13000.0  "
      ]
     },
     "execution_count": 3,
     "metadata": {},
     "output_type": "execute_result"
    }
   ],
   "source": [
    "#print data\n",
    "Customer_Data.head()"
   ]
  },
  {
   "cell_type": "markdown",
   "metadata": {},
   "source": [
    "## Check null fields,put mean value in that."
   ]
  },
  {
   "cell_type": "code",
   "execution_count": 4,
   "metadata": {},
   "outputs": [
    {
     "data": {
      "text/plain": [
       "customer_ID          False\n",
       "name                 False\n",
       "gender               False\n",
       "place                False\n",
       "month_of_purchase     True\n",
       "brand_of_mobile      False\n",
       "cost_of_mobile        True\n",
       "dtype: bool"
      ]
     },
     "execution_count": 4,
     "metadata": {},
     "output_type": "execute_result"
    }
   ],
   "source": [
    "#check which column has missing values\n",
    "Customer_Data.isnull().any()"
   ]
  },
  {
   "cell_type": "code",
   "execution_count": 5,
   "metadata": {},
   "outputs": [],
   "source": [
    "#filling missing value by mean\n",
    "Customer_Data['month_of_purchase'] = Customer_Data['month_of_purchase'].fillna(Customer_Data['month_of_purchase'].mean())\n",
    "Customer_Data['cost_of_mobile'] = Customer_Data['cost_of_mobile'].fillna(Customer_Data['cost_of_mobile'].mean())"
   ]
  },
  {
   "cell_type": "code",
   "execution_count": 6,
   "metadata": {},
   "outputs": [
    {
     "data": {
      "text/plain": [
       "customer_ID          False\n",
       "name                 False\n",
       "gender               False\n",
       "place                False\n",
       "month_of_purchase    False\n",
       "brand_of_mobile      False\n",
       "cost_of_mobile       False\n",
       "dtype: bool"
      ]
     },
     "execution_count": 6,
     "metadata": {},
     "output_type": "execute_result"
    }
   ],
   "source": [
    "Customer_Data.isnull().any()"
   ]
  },
  {
   "cell_type": "markdown",
   "metadata": {},
   "source": [
    "## Calculate Mean, Median and Standard Deviation for cost_of_mobile field."
   ]
  },
  {
   "cell_type": "code",
   "execution_count": 7,
   "metadata": {},
   "outputs": [
    {
     "name": "stdout",
     "output_type": "stream",
     "text": [
      "Mean :  21608.695652173916\n",
      "Median :  17000.0\n",
      "Standard Deviation :  12123.459113205487\n"
     ]
    }
   ],
   "source": [
    "print(\"Mean : \",Customer_Data['cost_of_mobile'].mean())\n",
    "print(\"Median : \",Customer_Data['cost_of_mobile'].median())\n",
    "print(\"Standard Deviation : \",Customer_Data['cost_of_mobile'].std())"
   ]
  },
  {
   "cell_type": "markdown",
   "metadata": {},
   "source": [
    "## Calculate Mode for cost_of_mobile field."
   ]
  },
  {
   "cell_type": "code",
   "execution_count": 8,
   "metadata": {},
   "outputs": [
    {
     "name": "stdout",
     "output_type": "stream",
     "text": [
      "Mode :  0    12000.0\n",
      "1    15000.0\n",
      "dtype: float64\n"
     ]
    }
   ],
   "source": [
    "print(\"Mode : \",Customer_Data['cost_of_mobile'].mode())"
   ]
  },
  {
   "cell_type": "markdown",
   "metadata": {},
   "source": [
    "Here, We got 2 mode value for cost_of_mobile field.\n",
    "Which means cost_of_mobile field is bimodal."
   ]
  },
  {
   "cell_type": "markdown",
   "metadata": {},
   "source": [
    "## Find out month with highest no. of sales of mobile."
   ]
  },
  {
   "cell_type": "code",
   "execution_count": 9,
   "metadata": {},
   "outputs": [
    {
     "data": {
      "text/plain": [
       "10.000000    4\n",
       "5.000000     4\n",
       "9.000000     3\n",
       "6.913043     2\n",
       "4.000000     2\n",
       "6.000000     2\n",
       "8.000000     2\n",
       "3.000000     1\n",
       "2.000000     1\n",
       "7.000000     1\n",
       "11.000000    1\n",
       "12.000000    1\n",
       "1.000000     1\n",
       "Name: month_of_purchase, dtype: int64"
      ]
     },
     "execution_count": 9,
     "metadata": {},
     "output_type": "execute_result"
    }
   ],
   "source": [
    "Customer_Data['month_of_purchase'].value_counts()"
   ]
  },
  {
   "cell_type": "markdown",
   "metadata": {},
   "source": [
    "So, We can say that Month 5 and 10 has highest no. of sales of mobiles"
   ]
  },
  {
   "cell_type": "markdown",
   "metadata": {},
   "source": [
    "## Display with proper chart for"
   ]
  },
  {
   "cell_type": "markdown",
   "metadata": {},
   "source": [
    "### 1. No. of mobiles sold in each month"
   ]
  },
  {
   "cell_type": "code",
   "execution_count": 10,
   "metadata": {},
   "outputs": [
    {
     "data": {
      "image/png": "[encoded data removed]",
      "text/plain": [
       "<Figure size 432x288 with 1 Axes>"
      ]
     },
     "metadata": {
      "needs_background": "light"
     },
     "output_type": "display_data"
    }
   ],
   "source": [
    "#plot hist chart for month and no.of mobiles\n",
    "\n",
    "plt.hist(Customer_Data['month_of_purchase'], bins=12)\n",
    "plt.title(\"No. of mobiles sold in each month\")\n",
    "plt.xlabel(\"Months\")\n",
    "plt.ylabel(\"No. of mobiles\")\n",
    "plt.xticks(range(1,13))\n",
    "plt.show()"
   ]
  },
  {
   "cell_type": "markdown",
   "metadata": {},
   "source": [
    "### 2. Profits earned in each month"
   ]
  },
  {
   "cell_type": "code",
   "execution_count": 11,
   "metadata": {},
   "outputs": [
    {
     "data": {
      "image/png": "[encoded data removed]",
      "text/plain": [
       "<Figure size 432x288 with 1 Axes>"
      ]
     },
     "metadata": {
      "needs_background": "light"
     },
     "output_type": "display_data"
    }
   ],
   "source": [
    "#plot bar chart for profit monthwise.\n",
    "#let's say profit is 10% of value.\n",
    "\n",
    "Customer_Data['Profit'] = Customer_Data['cost_of_mobile']*0.1\n",
    "\n",
    "Profit = Customer_Data.groupby(['month_of_purchase']).sum()\n",
    "\n",
    "plt.bar(Profit.index, Profit.Profit)\n",
    "plt.xticks(range(1,13))\n",
    "plt.title(\"Monthwise Profit\")\n",
    "plt.xlabel('Months')\n",
    "plt.ylabel('Profit')\n",
    "plt.show()"
   ]
  },
  {
   "cell_type": "markdown",
   "metadata": {},
   "source": [
    "### 3. Market Share of each Brand."
   ]
  },
  {
   "cell_type": "code",
   "execution_count": 12,
   "metadata": {},
   "outputs": [
    {
     "data": {
      "image/png": "[encoded data removed]",
      "text/plain": [
       "<Figure size 432x288 with 1 Axes>"
      ]
     },
     "metadata": {},
     "output_type": "display_data"
    }
   ],
   "source": [
    "#Pie chart brandwise data\n",
    "BrandWise = Customer_Data.groupby(['brand_of_mobile']).sum()\n",
    "\n",
    "plt.pie(BrandWise['cost_of_mobile'], labels = BrandWise.index,autopct='%1.2f%%')\n",
    "plt.show()"
   ]
  }
 ],
 "metadata": {
  "kernelspec": {
   "display_name": "Python 3",
   "language": "python",
   "name": "python3"
  },
  "language_info": {
   "codemirror_mode": {
    "name": "ipython",
    "version": 3
   },
   "file_extension": ".py",
   "mimetype": "text/x-python",
   "name": "python",
   "nbconvert_exporter": "python",
   "pygments_lexer": "ipython3",
   "version": "3.7.4"
  }
 },
 "nbformat": 4,
 "nbformat_minor": 2
}
