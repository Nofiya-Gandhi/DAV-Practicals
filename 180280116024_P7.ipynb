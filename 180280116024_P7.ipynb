{
 "cells": [
  {
   "cell_type": "markdown",
   "metadata": {},
   "source": [
    "Enrollment No : 180280116024 <br>\n",
    "Sub : DAV"
   ]
  },
  {
   "cell_type": "markdown",
   "metadata": {},
   "source": [
    "<h1><center>Practical 7 </center></h1>"
   ]
  },
  {
   "cell_type": "markdown",
   "metadata": {},
   "source": [
    "<B>Aim :</B> Practical Implementation of KNN Algorithm <br><br>\n",
    "1:Load the data<br>\n",
    "2:Initialize K to your chosen number of neighbors<br>\n",
    "3.For each example in the data<br>\n",
    "    3.1 Calculate the distance between the query example and the current example from the data.<br>\n",
    "    3.2 Add the distance and the index of the example to an ordered collection<br>\n",
    "4.Sort the ordered collection of distances and indices from smallest to largest (in ascending order) by the distances<br>\n",
    "5.Pick the first K entries from the sorted collection<br>\n",
    "6.Get the labels of the selected K entries<br>\n",
    "7.If regression, return the mean of the K labels<br>\n",
    "8.If classification, return the mode of the K labels<br><br>\n",
    "\n",
    "\n",
    "Task 1: Take Data set where 3 attributes should be there. 1. Length 2. Width 3. Species<br>\n",
    "Task 2: Find Distance using Distance Formula<br>\n",
    "Task 3: Find Rank <br>\n",
    "Task 4: Find the K nearest neighbor <br>\n",
    "Task 5: Practical Implementation of KNN<br>\n",
    "          5.1: Import the Libraries<br>\n",
    "          5.2: Import the dataset<br>\n",
    "          5.3: Encode the categorical data<br>\n",
    "          5.4: Split the dataset for test and train<br> \n",
    "          5.5: Feature Scaling<br>\n",
    "Task 6: Building the KNN classifier module<br>\n",
    "         6.1: Import the Libraries<br>\n",
    "         6.2: Initialize the KNN model<br>\n",
    "         6.3: Fitting the KNN model<br>\n",
    "Task 7: Making the prediction and Visualizing the result<br>\n",
    "The target is to find nearest species which belongs to three species using KNN.<br>"
   ]
  },
  {
   "cell_type": "code",
   "execution_count": 1,
   "metadata": {},
   "outputs": [],
   "source": [
    "# import the libraries\n",
    "\n",
    "import pandas as pd\n",
    "import numpy as np\n",
    "import matplotlib.pyplot as plt\n",
    "\n",
    "from sklearn.model_selection import train_test_split\n",
    "from sklearn.metrics import classification_report, confusion_matrix\n",
    "from sklearn.neighbors import KNeighborsClassifier"
   ]
  },
  {
   "cell_type": "code",
   "execution_count": 2,
   "metadata": {},
   "outputs": [],
   "source": [
    "#load dataset\n",
    "\n",
    "iris = pd.read_csv('iris.csv')"
   ]
  },
  {
   "cell_type": "code",
   "execution_count": 3,
   "metadata": {},
   "outputs": [
    {
     "data": {
      "text/html": [
       "<div>\n",
       "<style scoped>\n",
       "    .dataframe tbody tr th:only-of-type {\n",
       "        vertical-align: middle;\n",
       "    }\n",
       "\n",
       "    .dataframe tbody tr th {\n",
       "        vertical-align: top;\n",
       "    }\n",
       "\n",
       "    .dataframe thead th {\n",
       "        text-align: right;\n",
       "    }\n",
       "</style>\n",
       "<table border=\"1\" class=\"dataframe\">\n",
       "  <thead>\n",
       "    <tr style=\"text-align: right;\">\n",
       "      <th></th>\n",
       "      <th>sepal_length</th>\n",
       "      <th>sepal_width</th>\n",
       "      <th>petal_length</th>\n",
       "      <th>petal_width</th>\n",
       "      <th>variety</th>\n",
       "    </tr>\n",
       "  </thead>\n",
       "  <tbody>\n",
       "    <tr>\n",
       "      <td>0</td>\n",
       "      <td>5.1</td>\n",
       "      <td>3.5</td>\n",
       "      <td>1.4</td>\n",
       "      <td>0.2</td>\n",
       "      <td>Setosa</td>\n",
       "    </tr>\n",
       "    <tr>\n",
       "      <td>1</td>\n",
       "      <td>4.9</td>\n",
       "      <td>3.0</td>\n",
       "      <td>1.4</td>\n",
       "      <td>0.2</td>\n",
       "      <td>Setosa</td>\n",
       "    </tr>\n",
       "    <tr>\n",
       "      <td>2</td>\n",
       "      <td>4.7</td>\n",
       "      <td>3.2</td>\n",
       "      <td>1.3</td>\n",
       "      <td>0.2</td>\n",
       "      <td>Setosa</td>\n",
       "    </tr>\n",
       "    <tr>\n",
       "      <td>3</td>\n",
       "      <td>4.6</td>\n",
       "      <td>3.1</td>\n",
       "      <td>1.5</td>\n",
       "      <td>0.2</td>\n",
       "      <td>Setosa</td>\n",
       "    </tr>\n",
       "    <tr>\n",
       "      <td>4</td>\n",
       "      <td>5.0</td>\n",
       "      <td>3.6</td>\n",
       "      <td>1.4</td>\n",
       "      <td>0.2</td>\n",
       "      <td>Setosa</td>\n",
       "    </tr>\n",
       "  </tbody>\n",
       "</table>\n",
       "</div>"
      ],
      "text/plain": [
       "   sepal_length  sepal_width  petal_length  petal_width variety\n",
       "0           5.1          3.5           1.4          0.2  Setosa\n",
       "1           4.9          3.0           1.4          0.2  Setosa\n",
       "2           4.7          3.2           1.3          0.2  Setosa\n",
       "3           4.6          3.1           1.5          0.2  Setosa\n",
       "4           5.0          3.6           1.4          0.2  Setosa"
      ]
     },
     "execution_count": 3,
     "metadata": {},
     "output_type": "execute_result"
    }
   ],
   "source": [
    "iris.head()"
   ]
  },
  {
   "cell_type": "code",
   "execution_count": 4,
   "metadata": {},
   "outputs": [],
   "source": [
    "#preprocess\n",
    "\n",
    "X = iris.iloc[:, :-1].values\n",
    "y = iris.iloc[:, 4].values"
   ]
  },
  {
   "cell_type": "markdown",
   "metadata": {},
   "source": [
    "## Find Distance"
   ]
  },
  {
   "cell_type": "code",
   "execution_count": 5,
   "metadata": {},
   "outputs": [],
   "source": [
    "# Calculating Euclidean distance\n",
    "from math import sqrt\n",
    " \n",
    "# calculate the Euclidean distance between two vectors\n",
    "def euclidean_distance(row1, row2):\n",
    "    distance = 0.0\n",
    "    for i in range(len(row1)-1):\n",
    "        distance += (row1[i] - row2[i])**2\n",
    "    return sqrt(distance)\n"
   ]
  },
  {
   "cell_type": "code",
   "execution_count": 6,
   "metadata": {},
   "outputs": [
    {
     "name": "stdout",
     "output_type": "stream",
     "text": [
      "0.0\n",
      "0.5385164807134502\n",
      "0.509901951359278\n",
      "0.648074069840786\n",
      "0.1414213562373093\n",
      "0.5830951894845303\n",
      "0.5099019513592785\n",
      "0.17320508075688762\n",
      "0.9219544457292882\n",
      "0.4582575694955836\n",
      "0.37416573867739483\n",
      "0.3741657386773941\n",
      "0.58309518948453\n",
      "0.9899494936611662\n",
      "0.8831760866327848\n",
      "1.0862780491200221\n",
      "0.5099019513592787\n",
      "0.0\n",
      "0.7348469228349538\n",
      "0.31622776601683783\n",
      "0.4358898943540679\n",
      "0.22360679774997916\n",
      "0.648074069840786\n",
      "0.36055512754639907\n",
      "0.5916079783099616\n",
      "0.5477225575051662\n",
      "0.24494897427831785\n",
      "0.14142135623730995\n",
      "0.14142135623730995\n",
      "0.53851648071345\n",
      "0.5385164807134504\n",
      "0.3316624790355407\n",
      "0.6164414002968974\n",
      "0.8062257748298554\n",
      "0.4582575694955836\n",
      "0.37416573867739383\n",
      "0.41231056256176635\n",
      "0.22360679774997838\n",
      "0.866025403784438\n",
      "0.14142135623730964\n",
      "0.14142135623730917\n",
      "1.3453624047073711\n",
      "0.7681145747868601\n",
      "0.22360679774997896\n",
      "0.58309518948453\n",
      "0.58309518948453\n",
      "0.3605551275463989\n",
      "0.58309518948453\n",
      "0.30000000000000027\n",
      "0.22360679774997896\n",
      "3.8196858509568563\n",
      "3.3749074061372415\n",
      "3.9560080889704974\n",
      "2.891366458960192\n",
      "3.562302626111375\n",
      "3.2341923257592464\n",
      "3.5171010790137953\n",
      "2.2045407685048604\n",
      "3.584689665786984\n",
      "2.6267851073127395\n",
      "2.582634314028992\n",
      "2.954657340538832\n",
      "3.043024810940588\n",
      "3.5000000000000004\n",
      "2.3345235059857505\n",
      "3.423448553724739\n",
      "3.1796226191169294\n",
      "2.9017236257093812\n",
      "3.536947836765479\n",
      "2.7386127875258306\n",
      "3.5057096285916205\n",
      "2.8722813232690143\n",
      "3.8327535793473606\n",
      "3.5185224171518366\n",
      "3.2341923257592464\n",
      "3.3911649915626345\n",
      "3.8652296180175374\n",
      "3.9711459303329564\n",
      "3.283291031876401\n",
      "2.3622023622035435\n",
      "2.670205984563738\n",
      "2.5806975801127883\n",
      "2.716615541441225\n",
      "3.8910152916687437\n",
      "3.154362059117501\n",
      "3.2295510523910287\n",
      "3.689173349139344\n",
      "3.4467375879228177\n",
      "2.791057147390572\n",
      "2.814249455894058\n",
      "3.1575306807693897\n",
      "3.3896902513356584\n",
      "2.839013913315678\n",
      "2.249444375840399\n",
      "2.9546573405388314\n",
      "2.9068883707497273\n",
      "2.925747767665559\n",
      "3.159113799786263\n",
      "1.886796226411321\n",
      "2.853068523537421\n",
      "4.758150901348127\n",
      "3.849675310984031\n",
      "4.949747468305833\n",
      "4.40908153700972\n",
      "4.644351407893249\n",
      "5.791372894228103\n",
      "3.263433774416144\n",
      "5.404627646748665\n",
      "4.78748368143433\n",
      "5.1487862647424\n",
      "3.9673668849754744\n",
      "4.188078318274385\n",
      "4.466542286825459\n",
      "3.7841775856849003\n",
      "3.830143600441111\n",
      "4.12189276910499\n",
      "4.361192497471305\n",
      "5.911006682452661\n",
      "6.149796744608719\n",
      "3.9319206502675\n",
      "4.671188285650666\n",
      "3.6041642581880207\n",
      "5.944745579080741\n",
      "3.7854986461495406\n",
      "4.592385001282015\n",
      "5.0655700567655755\n",
      "3.641428291206625\n",
      "3.6742346141747677\n",
      "4.451965857910412\n",
      "4.901020301937139\n",
      "5.279204485526204\n",
      "5.7384666941614295\n",
      "4.451965857910412\n",
      "3.9522145690739006\n",
      "4.410215414239988\n",
      "5.39444158370447\n",
      "4.369210454990695\n",
      "4.319722213291035\n",
      "3.552463933666322\n",
      "4.404543109109048\n",
      "4.512205669071391\n",
      "4.1340053217188775\n",
      "3.849675310984031\n",
      "4.8197510309143565\n",
      "4.592385001282015\n",
      "4.153311931459037\n",
      "3.924283374069717\n",
      "4.080441152620633\n",
      "4.149698784249286\n",
      "3.818376618407356\n"
     ]
    }
   ],
   "source": [
    "row = X[:1].reshape(-1)\n",
    "lst = []\n",
    "for row1 in X:\n",
    "    distance = euclidean_distance(row, row1)\n",
    "    print(distance)\n",
    "    lst.append(distance)"
   ]
  },
  {
   "cell_type": "markdown",
   "metadata": {},
   "source": [
    "## rank the distance"
   ]
  },
  {
   "cell_type": "code",
   "execution_count": 7,
   "metadata": {},
   "outputs": [],
   "source": [
    "#add distance in dataset\n",
    "\n",
    "iris['dist'] = lst"
   ]
  },
  {
   "cell_type": "code",
   "execution_count": 8,
   "metadata": {},
   "outputs": [
    {
     "data": {
      "text/html": [
       "<div>\n",
       "<style scoped>\n",
       "    .dataframe tbody tr th:only-of-type {\n",
       "        vertical-align: middle;\n",
       "    }\n",
       "\n",
       "    .dataframe tbody tr th {\n",
       "        vertical-align: top;\n",
       "    }\n",
       "\n",
       "    .dataframe thead th {\n",
       "        text-align: right;\n",
       "    }\n",
       "</style>\n",
       "<table border=\"1\" class=\"dataframe\">\n",
       "  <thead>\n",
       "    <tr style=\"text-align: right;\">\n",
       "      <th></th>\n",
       "      <th>sepal_length</th>\n",
       "      <th>sepal_width</th>\n",
       "      <th>petal_length</th>\n",
       "      <th>petal_width</th>\n",
       "      <th>variety</th>\n",
       "      <th>dist</th>\n",
       "    </tr>\n",
       "  </thead>\n",
       "  <tbody>\n",
       "    <tr>\n",
       "      <td>0</td>\n",
       "      <td>5.1</td>\n",
       "      <td>3.5</td>\n",
       "      <td>1.4</td>\n",
       "      <td>0.2</td>\n",
       "      <td>Setosa</td>\n",
       "      <td>0.000000</td>\n",
       "    </tr>\n",
       "    <tr>\n",
       "      <td>1</td>\n",
       "      <td>4.9</td>\n",
       "      <td>3.0</td>\n",
       "      <td>1.4</td>\n",
       "      <td>0.2</td>\n",
       "      <td>Setosa</td>\n",
       "      <td>0.538516</td>\n",
       "    </tr>\n",
       "    <tr>\n",
       "      <td>2</td>\n",
       "      <td>4.7</td>\n",
       "      <td>3.2</td>\n",
       "      <td>1.3</td>\n",
       "      <td>0.2</td>\n",
       "      <td>Setosa</td>\n",
       "      <td>0.509902</td>\n",
       "    </tr>\n",
       "    <tr>\n",
       "      <td>3</td>\n",
       "      <td>4.6</td>\n",
       "      <td>3.1</td>\n",
       "      <td>1.5</td>\n",
       "      <td>0.2</td>\n",
       "      <td>Setosa</td>\n",
       "      <td>0.648074</td>\n",
       "    </tr>\n",
       "    <tr>\n",
       "      <td>4</td>\n",
       "      <td>5.0</td>\n",
       "      <td>3.6</td>\n",
       "      <td>1.4</td>\n",
       "      <td>0.2</td>\n",
       "      <td>Setosa</td>\n",
       "      <td>0.141421</td>\n",
       "    </tr>\n",
       "  </tbody>\n",
       "</table>\n",
       "</div>"
      ],
      "text/plain": [
       "   sepal_length  sepal_width  petal_length  petal_width variety      dist\n",
       "0           5.1          3.5           1.4          0.2  Setosa  0.000000\n",
       "1           4.9          3.0           1.4          0.2  Setosa  0.538516\n",
       "2           4.7          3.2           1.3          0.2  Setosa  0.509902\n",
       "3           4.6          3.1           1.5          0.2  Setosa  0.648074\n",
       "4           5.0          3.6           1.4          0.2  Setosa  0.141421"
      ]
     },
     "execution_count": 8,
     "metadata": {},
     "output_type": "execute_result"
    }
   ],
   "source": [
    "iris.head()"
   ]
  },
  {
   "cell_type": "code",
   "execution_count": 9,
   "metadata": {},
   "outputs": [
    {
     "data": {
      "text/html": [
       "<div>\n",
       "<style scoped>\n",
       "    .dataframe tbody tr th:only-of-type {\n",
       "        vertical-align: middle;\n",
       "    }\n",
       "\n",
       "    .dataframe tbody tr th {\n",
       "        vertical-align: top;\n",
       "    }\n",
       "\n",
       "    .dataframe thead th {\n",
       "        text-align: right;\n",
       "    }\n",
       "</style>\n",
       "<table border=\"1\" class=\"dataframe\">\n",
       "  <thead>\n",
       "    <tr style=\"text-align: right;\">\n",
       "      <th></th>\n",
       "      <th>sepal_length</th>\n",
       "      <th>sepal_width</th>\n",
       "      <th>petal_length</th>\n",
       "      <th>petal_width</th>\n",
       "      <th>variety</th>\n",
       "      <th>dist</th>\n",
       "    </tr>\n",
       "  </thead>\n",
       "  <tbody>\n",
       "    <tr>\n",
       "      <td>0</td>\n",
       "      <td>5.1</td>\n",
       "      <td>3.5</td>\n",
       "      <td>1.4</td>\n",
       "      <td>0.2</td>\n",
       "      <td>Setosa</td>\n",
       "      <td>0.000000</td>\n",
       "    </tr>\n",
       "    <tr>\n",
       "      <td>17</td>\n",
       "      <td>5.1</td>\n",
       "      <td>3.5</td>\n",
       "      <td>1.4</td>\n",
       "      <td>0.3</td>\n",
       "      <td>Setosa</td>\n",
       "      <td>0.000000</td>\n",
       "    </tr>\n",
       "    <tr>\n",
       "      <td>40</td>\n",
       "      <td>5.0</td>\n",
       "      <td>3.5</td>\n",
       "      <td>1.3</td>\n",
       "      <td>0.3</td>\n",
       "      <td>Setosa</td>\n",
       "      <td>0.141421</td>\n",
       "    </tr>\n",
       "    <tr>\n",
       "      <td>4</td>\n",
       "      <td>5.0</td>\n",
       "      <td>3.6</td>\n",
       "      <td>1.4</td>\n",
       "      <td>0.2</td>\n",
       "      <td>Setosa</td>\n",
       "      <td>0.141421</td>\n",
       "    </tr>\n",
       "    <tr>\n",
       "      <td>39</td>\n",
       "      <td>5.1</td>\n",
       "      <td>3.4</td>\n",
       "      <td>1.5</td>\n",
       "      <td>0.2</td>\n",
       "      <td>Setosa</td>\n",
       "      <td>0.141421</td>\n",
       "    </tr>\n",
       "  </tbody>\n",
       "</table>\n",
       "</div>"
      ],
      "text/plain": [
       "    sepal_length  sepal_width  petal_length  petal_width variety      dist\n",
       "0            5.1          3.5           1.4          0.2  Setosa  0.000000\n",
       "17           5.1          3.5           1.4          0.3  Setosa  0.000000\n",
       "40           5.0          3.5           1.3          0.3  Setosa  0.141421\n",
       "4            5.0          3.6           1.4          0.2  Setosa  0.141421\n",
       "39           5.1          3.4           1.5          0.2  Setosa  0.141421"
      ]
     },
     "execution_count": 9,
     "metadata": {},
     "output_type": "execute_result"
    }
   ],
   "source": [
    "#sort by distance\n",
    "\n",
    "iris = iris.sort_values(by=['dist'])\n",
    "iris.head()"
   ]
  },
  {
   "cell_type": "markdown",
   "metadata": {},
   "source": [
    "## Implement Knn"
   ]
  },
  {
   "cell_type": "markdown",
   "metadata": {},
   "source": [
    "### Encode the categorical data"
   ]
  },
  {
   "cell_type": "code",
   "execution_count": 10,
   "metadata": {},
   "outputs": [
    {
     "name": "stdout",
     "output_type": "stream",
     "text": [
      "[0 0 0 0 0 0 0 0 0 0 0 0 0 0 0 0 0 0 0 0 0 0 0 0 0 0 0 0 0 0 0 0 0 0 0 0 0\n",
      " 0 0 0 0 0 0 0 0 0 0 0 0 0 1 1 1 1 1 1 1 1 1 1 1 1 1 1 1 1 1 1 1 1 1 1 1 1\n",
      " 1 1 1 1 1 1 2 1 1 1 1 1 1 1 1 1 1 1 2 1 1 2 2 2 1 2 2 2 1 2 1 2 2 1 1 2 2\n",
      " 2 1 2 1 2 2 2 2 2 2 2 2 2 2 2 2 2 2 2 2 2 2 2 2 2 2 2 2 2 2 2 2 2 2 2 2 2\n",
      " 2 2]\n"
     ]
    }
   ],
   "source": [
    "# Import LabelEncoder\n",
    "from sklearn import preprocessing\n",
    "\n",
    "#creating labelEncoder\n",
    "le = preprocessing.LabelEncoder()\n",
    "\n",
    "# Converting string labels into numbers.\n",
    "variety=le.fit_transform(iris.variety)\n",
    "print(variety)"
   ]
  },
  {
   "cell_type": "markdown",
   "metadata": {},
   "source": [
    "### Split the dataset for test and train"
   ]
  },
  {
   "cell_type": "code",
   "execution_count": 11,
   "metadata": {},
   "outputs": [],
   "source": [
    "# split data in training and testing\n",
    "X_train, X_test, y_train, y_test = train_test_split(X, y, test_size=0.20)"
   ]
  },
  {
   "cell_type": "markdown",
   "metadata": {},
   "source": [
    "\n",
    "### Feature Scaling"
   ]
  },
  {
   "cell_type": "code",
   "execution_count": 12,
   "metadata": {},
   "outputs": [],
   "source": [
    "scaler = preprocessing.StandardScaler()\n",
    "scaler.fit(X_train)\n",
    "\n",
    "X_train = scaler.transform(X_train)\n",
    "X_test = scaler.transform(X_test)"
   ]
  },
  {
   "cell_type": "markdown",
   "metadata": {},
   "source": [
    "## Building the KNN classifier module"
   ]
  },
  {
   "cell_type": "code",
   "execution_count": 13,
   "metadata": {},
   "outputs": [
    {
     "data": {
      "text/plain": [
       "KNeighborsClassifier(algorithm='auto', leaf_size=30, metric='minkowski',\n",
       "                     metric_params=None, n_jobs=None, n_neighbors=3, p=2,\n",
       "                     weights='uniform')"
      ]
     },
     "execution_count": 13,
     "metadata": {},
     "output_type": "execute_result"
    }
   ],
   "source": [
    "model = KNeighborsClassifier(n_neighbors=3)\n",
    "\n",
    "# Train the model using the training sets\n",
    "model.fit(X_train,y_train)"
   ]
  },
  {
   "cell_type": "code",
   "execution_count": 14,
   "metadata": {},
   "outputs": [],
   "source": [
    "# predict output\n",
    "y_pred = model.predict(X_test)"
   ]
  },
  {
   "cell_type": "markdown",
   "metadata": {},
   "source": [
    "### Evaluate Model"
   ]
  },
  {
   "cell_type": "code",
   "execution_count": 15,
   "metadata": {},
   "outputs": [
    {
     "name": "stdout",
     "output_type": "stream",
     "text": [
      "[[ 9  0  0]\n",
      " [ 0  6  0]\n",
      " [ 0  1 14]]\n",
      "              precision    recall  f1-score   support\n",
      "\n",
      "      Setosa       1.00      1.00      1.00         9\n",
      "  Versicolor       0.86      1.00      0.92         6\n",
      "   Virginica       1.00      0.93      0.97        15\n",
      "\n",
      "    accuracy                           0.97        30\n",
      "   macro avg       0.95      0.98      0.96        30\n",
      "weighted avg       0.97      0.97      0.97        30\n",
      "\n"
     ]
    }
   ],
   "source": [
    "# Model Evaluation\n",
    "print(confusion_matrix(y_test, y_pred))\n",
    "print(classification_report(y_test, y_pred))"
   ]
  },
  {
   "cell_type": "markdown",
   "metadata": {},
   "source": [
    "### predict output"
   ]
  },
  {
   "cell_type": "code",
   "execution_count": 16,
   "metadata": {},
   "outputs": [
    {
     "data": {
      "text/plain": [
       "array(['Virginica'], dtype=object)"
      ]
     },
     "execution_count": 16,
     "metadata": {},
     "output_type": "execute_result"
    }
   ],
   "source": [
    "model.predict(scaler.transform([[5.8, 2.8, 5.1, 2.4]]))"
   ]
  },
  {
   "cell_type": "code",
   "execution_count": 17,
   "metadata": {},
   "outputs": [
    {
     "data": {
      "text/plain": [
       "array(['Setosa'], dtype=object)"
      ]
     },
     "execution_count": 17,
     "metadata": {},
     "output_type": "execute_result"
    }
   ],
   "source": [
    "model.predict(scaler.transform([[5.1, 3.5, 1.4, 0.2]]))"
   ]
  },
  {
   "cell_type": "markdown",
   "metadata": {},
   "source": [
    "## Find Best K values"
   ]
  },
  {
   "cell_type": "code",
   "execution_count": 18,
   "metadata": {},
   "outputs": [],
   "source": [
    "error = []\n",
    "\n",
    "# Calculating error for K values between 1 and 20\n",
    "for i in range(1, 20):\n",
    "    knn = KNeighborsClassifier(n_neighbors=i)\n",
    "    knn.fit(X_train, y_train)\n",
    "    pred_i = knn.predict(X_test)\n",
    "    error.append(np.mean(pred_i != y_test))"
   ]
  },
  {
   "cell_type": "code",
   "execution_count": 19,
   "metadata": {},
   "outputs": [
    {
     "data": {
      "text/plain": [
       "Text(0, 0.5, 'Mean Error')"
      ]
     },
     "execution_count": 19,
     "metadata": {},
     "output_type": "execute_result"
    },
    {
     "data": {
      "image/png": "[encoded data removed]",
      "text/plain": [
       "<Figure size 864x432 with 1 Axes>"
      ]
     },
     "metadata": {
      "needs_background": "light"
     },
     "output_type": "display_data"
    }
   ],
   "source": [
    "plt.figure(figsize=(12, 6))\n",
    "plt.plot(range(1, 20), error, color='red', linestyle='dashed', marker='o',\n",
    "         markerfacecolor='blue', markersize=10)\n",
    "plt.title('Error Rate K Value')\n",
    "plt.xlabel('K Value')\n",
    "plt.ylabel('Mean Error')"
   ]
  },
  {
   "cell_type": "markdown",
   "metadata": {},
   "source": [
    "So, We can say that error is minimum between k values of 10 to 15"
   ]
  },
  {
   "cell_type": "markdown",
   "metadata": {},
   "source": [
    "## Build model with k = 12"
   ]
  },
  {
   "cell_type": "code",
   "execution_count": 20,
   "metadata": {},
   "outputs": [
    {
     "name": "stdout",
     "output_type": "stream",
     "text": [
      "[[ 9  0  0]\n",
      " [ 0  6  0]\n",
      " [ 0  1 14]]\n",
      "              precision    recall  f1-score   support\n",
      "\n",
      "      Setosa       1.00      1.00      1.00         9\n",
      "  Versicolor       0.86      1.00      0.92         6\n",
      "   Virginica       1.00      0.93      0.97        15\n",
      "\n",
      "    accuracy                           0.97        30\n",
      "   macro avg       0.95      0.98      0.96        30\n",
      "weighted avg       0.97      0.97      0.97        30\n",
      "\n"
     ]
    }
   ],
   "source": [
    "model = KNeighborsClassifier(n_neighbors=12)\n",
    "\n",
    "# Train the model using the training sets\n",
    "model.fit(X_train,y_train)\n",
    "\n",
    "# predict output\n",
    "y_pred = model.predict(X_test)\n",
    "\n",
    "# Model Evaluation\n",
    "print(confusion_matrix(y_test, y_pred))\n",
    "print(classification_report(y_test, y_pred))"
   ]
  },
  {
   "cell_type": "markdown",
   "metadata": {},
   "source": [
    "Here, Accuracy is 0.97"
   ]
  },
  {
   "cell_type": "code",
   "execution_count": null,
   "metadata": {},
   "outputs": [],
   "source": []
  }
 ],
 "metadata": {
  "kernelspec": {
   "display_name": "Python 3",
   "language": "python",
   "name": "python3"
  },
  "language_info": {
   "codemirror_mode": {
    "name": "ipython",
    "version": 3
   },
   "file_extension": ".py",
   "mimetype": "text/x-python",
   "name": "python",
   "nbconvert_exporter": "python",
   "pygments_lexer": "ipython3",
   "version": "3.7.4"
  }
 },
 "nbformat": 4,
 "nbformat_minor": 2
}
